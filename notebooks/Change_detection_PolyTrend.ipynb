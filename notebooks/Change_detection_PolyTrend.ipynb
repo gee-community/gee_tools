{
 "cells": [
  {
   "cell_type": "markdown",
   "metadata": {},
   "source": [
    "<h1>Analysis of time series data with PolyTrend change-detection algorithm</h1>\n",
    "<p>This script allows you to use Google Earth Engine API to import and analyze time series data. You can analyze a total of 1 000 000 pixels at once.</p>\n",
    "<h3>Step 1. Import libraries below.</h3>"
   ]
  },
  {
   "cell_type": "code",
   "execution_count": 1,
   "metadata": {},
   "outputs": [],
   "source": [
    "#import libraries for PolyTrend algorithm\n",
    "import pandas as pd\n",
    "import numpy as np\n",
    "import numpy.linalg as lng\n",
    "import numpy.polynomial.polynomial as poly\n",
    "import scipy.stats as stats\n",
    "from ipyleaflet import Map, basemaps, DrawControl, basemap_to_tiles, CircleMarker\n",
    "try:\n",
    "    import ee\n",
    "except ImportError:\n",
    "    raise ImportError(\"You either haven't installed or authenticated Earth Engine\")\n",
    "    \n",
    "ee.Initialize()"
   ]
  },
  {
   "cell_type": "markdown",
   "metadata": {},
   "source": [
    "<h4>Step 1a. Alternatively, to use your own data, upload a csv file to this Anaconda environment, enter the name of the file in the next cell and run the code. Time series needs to have at least 4 time steps to perform cubic fitting. First row should contain names of columns, including 'latitude' and 'longitude'. Otherwise, go to the next step.</h4>"
   ]
  },
  {
   "cell_type": "code",
   "execution_count": null,
   "metadata": {
    "collapsed": true
   },
   "outputs": [],
   "source": [
    "file_name = 'enter the name of you file here, as string, ending with .csv'\n",
    "dataset= pd.read_csv(file_name)\n",
    "dataset.groupby(['longitude', 'latitude'])\n",
    "print('You should see the first few records. Do they look ok?')\n",
    "print(dataset.head())"
   ]
  },
  {
   "cell_type": "markdown",
   "metadata": {},
   "source": [
    "<h3>Step 2. Enter parameters:</h3>\n",
    "<br>\n",
    "<ul>\n",
    "    <li>Statistical significance (alpha), the default value is 0.05.</li> \n",
    "    <li>Coordinates of the region of interest. If you don't know them use the map, mark a polygon. Only the coordinates of the last polygon drawn will be used.</li>\n",
    "    <li>ID of the dataset you'd like to use. Check its ID <a href=\"https://developers.google.com/earth-engine/datasets/catalog/\">here</a>. Enter as variable name_of_collection.</li>\n",
    "    <li>Start and end dates as strings to determine date range.</li>\n",
    "    <li>Name of the band you want to analyse. This is case sensitive so please check what band names the dataset has on Earth Engine website.</li>\n",
    "    <li>Threshold for minimum of analyzed values, eg. for NDVI it could be 0.2 to exclude water bodies. Please check what range is offered by the sensor you are using.</li>\n",
    "    <li>Nominal scale in meters of the projection to work in.</li>\n",
    "</ul>\n",
    "\n",
    "<h4>Make sure to use the same type of data as in the example below, string for collection name, dates and band name, alpha, ndvi_threshold and scale should be numerical. If you are using your own coordinates enter them as [longitude, latitude], uncomment the line.</h4>"
   ]
  },
  {
   "cell_type": "markdown",
   "metadata": {},
   "source": [
    "<h4 style='color:red'>Change the right side of the equation keeping the same format and type of data as in the example</h4> "
   ]
  },
  {
   "cell_type": "code",
   "execution_count": 39,
   "metadata": {},
   "outputs": [
    {
     "name": "stdout",
     "output_type": "stream",
     "text": [
      "Ready to go to the next step.\n"
     ]
    }
   ],
   "source": [
    "alpha = 0.05\n",
    "name_of_collection = 'NASA/GIMMS/3GV0'\n",
    "startYear = 1982\n",
    "endYear = 2006\n",
    "band_name = 'ndvi'\n",
    "# coords = [[11.944024, 52.30512], [11.922045, 52.197507], [11.966003, 52.224435], [11.944024, 52.30512]]\n",
    "ndvi_threshold = 0.1 #values from 0.3 up will be considered\n",
    "scale =8000\n",
    "print('Ready to go to the next step.')"
   ]
  },
  {
   "cell_type": "markdown",
   "metadata": {},
   "source": [
    "<h3>Step 3. Create a map to select area of interest.</h3>"
   ]
  },
  {
   "cell_type": "code",
   "execution_count": 40,
   "metadata": {},
   "outputs": [
    {
     "data": {
      "application/vnd.jupyter.widget-view+json": {
       "model_id": "f973be11ee8d449588e0ac74a41bff31",
       "version_major": 2,
       "version_minor": 0
      },
      "text/plain": [
       "Map(basemap={'url': 'https://{s}.tile.openstreetmap.org/{z}/{x}/{y}.png', 'attribution': 'Map data (c) <a href…"
      ]
     },
     "metadata": {},
     "output_type": "display_data"
    }
   ],
   "source": [
    "m = Map(\n",
    "    center=(15.605401,18.697332),\n",
    "    zoom=2\n",
    ")\n",
    "#enable drawing tools\n",
    "draw_control = DrawControl()\n",
    "draw_control.polygon = {\n",
    "    \"shapeOptions\": {\n",
    "        \"fillColor\": \"#6be5c3\",\n",
    "        \"color\": \"#6be5c3\",\n",
    "        \"fillOpacity\": 1.0\n",
    "    },\n",
    "    \"drawError\": {\n",
    "        \"color\": \"#dd253b\",\n",
    "        \"message\": \"Oups!\"\n",
    "    },\n",
    "    \"allowIntersection\": False\n",
    "}\n",
    "\n",
    "m.add_control(draw_control)\n",
    "m\n"
   ]
  },
  {
   "cell_type": "code",
   "execution_count": 41,
   "metadata": {},
   "outputs": [
    {
     "name": "stdout",
     "output_type": "stream",
     "text": [
      "coordinates that will be used:  [[[-7.945283, 13.952549], [-8.121112, 5.558399], [-0.956081, 5.689601], [-0.956081, 13.824567], [-7.945283, 13.952549]]]\n"
     ]
    }
   ],
   "source": [
    "print('coordinates that will be used: ', draw_control.last_draw['geometry']['coordinates'])\n"
   ]
  },
  {
   "cell_type": "markdown",
   "metadata": {},
   "source": [
    "<h3>Step 4. Generate annual max NDVI time series.</h3><br>\n",
    "<i>Please note: \n",
    "    <ul>\n",
    "    <li>Only the last polygon marked will be used. If you are using a point, you have to change the geometry inside the script so that AOI = ee.Geometry.Point(coords)</li>\n",
    "    <li>To generate maximum annual value instead of mean change the word 'mean' to 'max' in this line: _collection.filterDate(start_date, end_date).mean() </li>\n",
    "    </ul>"
   ]
  },
  {
   "cell_type": "code",
   "execution_count": 42,
   "metadata": {},
   "outputs": [
    {
     "name": "stdout",
     "output_type": "stream",
     "text": [
      "25\n",
      "        id  longitude   latitude    time   ndvi  \\\n",
      "0        0  -8.084838   5.569555  1982.0  0.755   \n",
      "1        1  -8.084838   5.569555  1983.0  0.756   \n",
      "2        2  -8.084838   5.569555  1984.0  0.777   \n",
      "3        3  -8.084838   5.569555  1985.0  0.797   \n",
      "4        4  -8.084838   5.569555  1986.0  0.821   \n",
      "5        5  -8.084838   5.569555  1987.0  0.727   \n",
      "6        6  -8.084838   5.569555  1988.0  0.758   \n",
      "7        7  -8.084838   5.569555  1989.0  0.843   \n",
      "8        8  -8.084838   5.569555  1990.0  0.837   \n",
      "9        9  -8.084838   5.569555  1991.0  0.858   \n",
      "10      10  -8.084838   5.569555  1992.0  0.706   \n",
      "11      11  -8.084838   5.569555  1993.0  0.821   \n",
      "12      12  -8.084838   5.569555  1994.0  0.766   \n",
      "13      13  -8.084838   5.569555  1995.0  0.829   \n",
      "14      14  -8.084838   5.569555  1996.0  0.853   \n",
      "15      15  -8.084838   5.569555  1997.0  0.900   \n",
      "16      16  -8.084838   5.569555  1998.0  0.817   \n",
      "17      17  -8.084838   5.569555  1999.0  0.847   \n",
      "18      18  -8.084838   5.569555  2000.0  0.863   \n",
      "19      19  -8.084838   5.569555  2001.0  0.858   \n",
      "20      20  -8.084838   5.569555  2002.0  0.861   \n",
      "21      21  -8.084838   5.569555  2003.0  0.821   \n",
      "22      22  -8.084838   5.569555  2004.0  0.914   \n",
      "23      23  -8.084838   5.569555  2005.0  0.934   \n",
      "24      24  -8.084838   5.569555  2006.0  0.872   \n",
      "25       0  -8.012972   5.569555  1982.0  0.782   \n",
      "26       1  -8.012972   5.569555  1983.0  0.737   \n",
      "27       2  -8.012972   5.569555  1984.0  0.817   \n",
      "28       3  -8.012972   5.569555  1985.0  0.825   \n",
      "29       4  -8.012972   5.569555  1986.0  0.828   \n",
      "...     ..        ...        ...     ...    ...   \n",
      "284120  20  -5.497690  13.905921  2002.0  0.356   \n",
      "284121  21  -5.497690  13.905921  2003.0  0.413   \n",
      "284122  22  -5.497690  13.905921  2004.0  0.415   \n",
      "284123  23  -5.497690  13.905921  2005.0  0.437   \n",
      "284124  24  -5.497690  13.905921  2006.0  0.418   \n",
      "284125   0  -5.425824  13.905921  1982.0  0.381   \n",
      "284126   1  -5.425824  13.905921  1983.0  0.369   \n",
      "284127   2  -5.425824  13.905921  1984.0  0.318   \n",
      "284128   3  -5.425824  13.905921  1985.0  0.352   \n",
      "284129   4  -5.425824  13.905921  1986.0  0.360   \n",
      "284130   5  -5.425824  13.905921  1987.0  0.313   \n",
      "284131   6  -5.425824  13.905921  1988.0  0.417   \n",
      "284132   7  -5.425824  13.905921  1989.0  0.427   \n",
      "284133   8  -5.425824  13.905921  1990.0  0.431   \n",
      "284134   9  -5.425824  13.905921  1991.0  0.374   \n",
      "284135  10  -5.425824  13.905921  1992.0  0.423   \n",
      "284136  11  -5.425824  13.905921  1993.0  0.415   \n",
      "284137  12  -5.425824  13.905921  1994.0  0.462   \n",
      "284138  13  -5.425824  13.905921  1995.0  0.398   \n",
      "284139  14  -5.425824  13.905921  1996.0  0.393   \n",
      "284140  15  -5.425824  13.905921  1997.0  0.348   \n",
      "284141  16  -5.425824  13.905921  1998.0  0.385   \n",
      "284142  17  -5.425824  13.905921  1999.0  0.387   \n",
      "284143  18  -5.425824  13.905921  2000.0  0.423   \n",
      "284144  19  -5.425824  13.905921  2001.0  0.371   \n",
      "284145  20  -5.425824  13.905921  2002.0  0.356   \n",
      "284146  21  -5.425824  13.905921  2003.0  0.413   \n",
      "284147  22  -5.425824  13.905921  2004.0  0.415   \n",
      "284148  23  -5.425824  13.905921  2005.0  0.437   \n",
      "284149  24  -5.425824  13.905921  2006.0  0.418   \n",
      "\n",
      "                               datetime  \n",
      "0      1970-01-01 00:00:01.982000+00:00  \n",
      "1      1970-01-01 00:00:01.983000+00:00  \n",
      "2      1970-01-01 00:00:01.984000+00:00  \n",
      "3      1970-01-01 00:00:01.985000+00:00  \n",
      "4      1970-01-01 00:00:01.986000+00:00  \n",
      "5      1970-01-01 00:00:01.987000+00:00  \n",
      "6      1970-01-01 00:00:01.988000+00:00  \n",
      "7      1970-01-01 00:00:01.989000+00:00  \n",
      "8      1970-01-01 00:00:01.990000+00:00  \n",
      "9      1970-01-01 00:00:01.991000+00:00  \n",
      "10     1970-01-01 00:00:01.992000+00:00  \n",
      "11     1970-01-01 00:00:01.993000+00:00  \n",
      "12     1970-01-01 00:00:01.994000+00:00  \n",
      "13     1970-01-01 00:00:01.995000+00:00  \n",
      "14     1970-01-01 00:00:01.996000+00:00  \n",
      "15     1970-01-01 00:00:01.997000+00:00  \n",
      "16     1970-01-01 00:00:01.998000+00:00  \n",
      "17     1970-01-01 00:00:01.999000+00:00  \n",
      "18            1970-01-01 00:00:02+00:00  \n",
      "19     1970-01-01 00:00:02.001000+00:00  \n",
      "20     1970-01-01 00:00:02.002000+00:00  \n",
      "21     1970-01-01 00:00:02.003000+00:00  \n",
      "22     1970-01-01 00:00:02.004000+00:00  \n",
      "23     1970-01-01 00:00:02.005000+00:00  \n",
      "24     1970-01-01 00:00:02.006000+00:00  \n",
      "25     1970-01-01 00:00:01.982000+00:00  \n",
      "26     1970-01-01 00:00:01.983000+00:00  \n",
      "27     1970-01-01 00:00:01.984000+00:00  \n",
      "28     1970-01-01 00:00:01.985000+00:00  \n",
      "29     1970-01-01 00:00:01.986000+00:00  \n",
      "...                                 ...  \n",
      "284120 1970-01-01 00:00:02.002000+00:00  \n",
      "284121 1970-01-01 00:00:02.003000+00:00  \n",
      "284122 1970-01-01 00:00:02.004000+00:00  \n",
      "284123 1970-01-01 00:00:02.005000+00:00  \n",
      "284124 1970-01-01 00:00:02.006000+00:00  \n",
      "284125 1970-01-01 00:00:01.982000+00:00  \n",
      "284126 1970-01-01 00:00:01.983000+00:00  \n",
      "284127 1970-01-01 00:00:01.984000+00:00  \n",
      "284128 1970-01-01 00:00:01.985000+00:00  \n",
      "284129 1970-01-01 00:00:01.986000+00:00  \n",
      "284130 1970-01-01 00:00:01.987000+00:00  \n",
      "284131 1970-01-01 00:00:01.988000+00:00  \n",
      "284132 1970-01-01 00:00:01.989000+00:00  \n",
      "284133 1970-01-01 00:00:01.990000+00:00  \n",
      "284134 1970-01-01 00:00:01.991000+00:00  \n",
      "284135 1970-01-01 00:00:01.992000+00:00  \n",
      "284136 1970-01-01 00:00:01.993000+00:00  \n",
      "284137 1970-01-01 00:00:01.994000+00:00  \n",
      "284138 1970-01-01 00:00:01.995000+00:00  \n",
      "284139 1970-01-01 00:00:01.996000+00:00  \n",
      "284140 1970-01-01 00:00:01.997000+00:00  \n",
      "284141 1970-01-01 00:00:01.998000+00:00  \n",
      "284142 1970-01-01 00:00:01.999000+00:00  \n",
      "284143        1970-01-01 00:00:02+00:00  \n",
      "284144 1970-01-01 00:00:02.001000+00:00  \n",
      "284145 1970-01-01 00:00:02.002000+00:00  \n",
      "284146 1970-01-01 00:00:02.003000+00:00  \n",
      "284147 1970-01-01 00:00:02.004000+00:00  \n",
      "284148 1970-01-01 00:00:02.005000+00:00  \n",
      "284149 1970-01-01 00:00:02.006000+00:00  \n",
      "\n",
      "[284150 rows x 6 columns]\n"
     ]
    }
   ],
   "source": [
    "coords = draw_control.last_draw['geometry']['coordinates']\n",
    "\n",
    "AOI = ee.Geometry.Polygon(coords)\n",
    "\n",
    "#The below code is adapted from Tylere on Github: https://gist.github.com/tylere/42e4acf883e18f5b8e331cfab8c91ab5\n",
    "\n",
    "collection = ee.ImageCollection(name_of_collection).select(band_name).filterBounds(AOI)\n",
    "collection = collection.filterDate(ee.Date.fromYMD(startYear, 1, 1), ee.Date.fromYMD(endYear, 1, 1).advance(1, 'year'))\n",
    "\n",
    "#Create list of years\n",
    "years = ee.List.sequence(startYear, endYear, 1)\n",
    "\n",
    "def calculateAnnualMean(year_and_collection):\n",
    "  # Unpack variable from the input parameter\n",
    "    year_and_collection = ee.List(year_and_collection)\n",
    "    year = ee.Number(year_and_collection.get(0))\n",
    "    _collection = ee.ImageCollection(year_and_collection.get(1))\n",
    "    start_date = ee.Date.fromYMD(year, 1, 1)\n",
    "    end_date = start_date.advance(1, 'year')\n",
    "   \n",
    "    return  _collection.filterDate(start_date, end_date).max().set('system:time_start', year)\n",
    "\n",
    "# Create a list of year-collection pairs (i.e. pack the function inputs)\n",
    "list_of_years_and_collections = years.zip(ee.List.repeat(collection, years.length()))\n",
    "\n",
    "annualNdvi = ee.ImageCollection.fromImages(list_of_years_and_collections.map(calculateAnnualMean))\n",
    "print(annualNdvi.size().getInfo())\n",
    "\n",
    "\n",
    "geom_values = annualNdvi.getRegion(geometry=AOI, scale=scale)\n",
    "geom_values_list = ee.List(geom_values).getInfo()\n",
    "# Convert to a Pandas DataFrame.\n",
    "header = geom_values_list[0]\n",
    "data = pd.DataFrame(geom_values_list[1:], columns=header)\n",
    "data['datetime'] = pd.to_datetime(data['time'], unit='ms', utc=True)\n",
    "data.set_index('time')\n",
    "data.groupby(['longitude', 'latitude'])\n",
    "\n",
    "print(data)"
   ]
  },
  {
   "cell_type": "markdown",
   "metadata": {},
   "source": [
    "<h4>Step 4a. Alternatively, save the time series for the polygon. It saves to the active Anaconda environment as time_series.csv.</h4>"
   ]
  },
  {
   "cell_type": "code",
   "execution_count": 6,
   "metadata": {},
   "outputs": [],
   "source": [
    "data.to_csv('Chad_ts.csv')"
   ]
  },
  {
   "cell_type": "markdown",
   "metadata": {},
   "source": [
    "<h3>Step 5. Run PolyTrend algorithm per pixel. It will take a while to complete, dependent on the size of your data set.</h3>\n",
    "<p><i>Watch for a message saying 'Running this process ended successfully.' below the cell</i><p>"
   ]
  },
  {
   "cell_type": "code",
   "execution_count": 43,
   "metadata": {},
   "outputs": [
    {
     "name": "stdout",
     "output_type": "stream",
     "text": [
      "number of images:  25\n",
      "number of pixels analysed:  284150\n",
      "Please wait for a message that the process is completed...\n",
      "points produced:  11366\n",
      "Process finished successfully. You can save your data to a csv file or display on the maps below.\n"
     ]
    }
   ],
   "source": [
    "message = 'Please wait for a message that the process is completed...'\n",
    "#definition of the PolyTrend algorithm\n",
    "def PolyTrend(Y, alpha):\n",
    "    X = range(1, len(Y)+1)\n",
    " \n",
    "    #define function to find p value:\n",
    "    def Pvalue(coef, df, A, Aprim, pn):\n",
    "        #generate square residual\n",
    "        part_res = np.dot(A, pn)-Y\n",
    "        residual = np.dot(part_res.transpose(), part_res)\n",
    "        #generate variance-covariance matrix\n",
    "        VC = lng.inv(np.dot(Aprim, A))*residual/df\n",
    "        #compute variance of the first coefficient\n",
    "        VC1 = np.sqrt(VC[0,0])\n",
    "        #compute t-statistic\n",
    "        statistic = coef/VC1\n",
    "        #compute p value\n",
    "        p = stats.t.sf(np.abs(statistic), df)*2\n",
    "        return p;\n",
    "    \n",
    "    def Plinear(X, Y):\n",
    "        df1 = len(X)-2\n",
    "        #generate Vandermonde matrix\n",
    "        A1 = np.vander(X, 2)\n",
    "        #generate transpose of the Vandermonde matrix\n",
    "        Aprim1 = A1.transpose()\n",
    "        p1 = np.dot(np.dot((lng.inv(np.dot(Aprim1, A1))), Aprim1), Y)\n",
    "        coef1 = p1[0]\n",
    "        Plin = Pvalue(coef1, df1, A1, Aprim1, p1)\n",
    "        Slope = p1[0]\n",
    "        Direction = np.sign(Slope)\n",
    "        #Slope and Direction will be referred to Plin[1] and Plin[2] respectively in returned results\n",
    "        return Plin, Slope, Direction;\n",
    "    \n",
    "    #degrees of freedom\n",
    "    df3 = len(X)-4\n",
    "    #generate Vandermonde matrix\n",
    "    A3 = np.vander(X, 4)\n",
    "    #generate transpose of the Vandermonde matrix\n",
    "    Aprim3 = A3.transpose()\n",
    "    #X=inv(A'*A)*A'*L - creating coefficients matrix:\n",
    "    p3 = np.dot(np.dot((lng.inv(np.dot(Aprim3, A3))), Aprim3), Y)\n",
    "    coef3 = p3[0]\n",
    "    #compute p-value for cubic fit\n",
    "    Pcubic = Pvalue(coef3, df3, A3, Aprim3, p3)\n",
    "    #get roots of cubic polynomial\n",
    "    coefs3 = ([p3[2], 2*p3[1], 3*p3[0]])\n",
    "    roots3 = np.sort(poly.polyroots(coefs3))\n",
    "\n",
    "    if (np.imag(roots3[0]) == 0 and np.imag(roots3[1])==0 and roots3[0] != roots3[1] and X[0] <= roots3[0] <= X[-1] and X[0] <= roots3[1] <= X[-1] and Pcubic < alpha):\n",
    "        Plin = Plinear(X, Y)\n",
    "        if (Plin[0] < alpha):\n",
    "            Trend_type = 3\n",
    "            Significance = 1\n",
    "            Poly_degree = 3\n",
    "        else:\n",
    "            Trend_type = -1\n",
    "            Significance = -1\n",
    "            Poly_degree = 3\n",
    "            return [Trend_type, Significance, Poly_degree, Plin[1], Plin[2]];\n",
    "    else:\n",
    "        df2 = len(X)-3\n",
    "        A2 = np.vander(X, 3)\n",
    "        Aprim2 = A2.transpose()\n",
    "        p2 = np.dot(np.dot((lng.inv(np.dot(Aprim2, A2))), Aprim2), Y)\n",
    "        coef2 = p2[0]\n",
    "        Pquadratic = Pvalue(coef2, df2, A2, Aprim2, p2)\n",
    "        coefs2 = ([p2[1], 2*p2[0]])\n",
    "        roots2 = np.sort(poly.polyroots(coefs2))\n",
    "        \n",
    "        if (X[0] <= roots2 <= X[-1] and Pquadratic < alpha):\n",
    "            Plin = Plinear(X, Y)\n",
    "            if Plin[0] < alpha:\n",
    "                Trend_type = 2\n",
    "                Significance = 1\n",
    "                Poly_degree = 2\n",
    "            else:\n",
    "                Trend_type = -1\n",
    "                Significance = -1\n",
    "                Poly_degree = 2\n",
    "                return [Trend_type, Significance, Poly_degree, Plin[1], Plin[2]];\n",
    "                \n",
    "        else:\n",
    "            Plin = Plinear(X, Y)\n",
    "            if Plin[0] < alpha:\n",
    "                Trend_type = 1\n",
    "                Significance = 1\n",
    "                Poly_degree = 1\n",
    "            else:\n",
    "                Trend_type = 0\n",
    "                Significance = -1\n",
    "                Poly_degree = 0\n",
    "            return [Trend_type, Significance, Poly_degree, Plin[1], Plin[2]];     \n",
    "        return [Trend_type, Significance, Poly_degree, Plin[1], Plin[2]];\n",
    "    return [Trend_type, Significance, Poly_degree, Plin[1], Plin[2]];\n",
    "#end of PolyTrend definition\n",
    "\n",
    "#establish how many images there are in the collection\n",
    "list_of_images = data['id']\n",
    "ids_of_images = []\n",
    "for img_id in list_of_images:\n",
    "    if img_id not in ids_of_images:\n",
    "        ids_of_images.append(img_id)\n",
    "        \n",
    "n = len(ids_of_images)\n",
    "print('number of images: ', n)\n",
    "number_of_pixels = len(data) \n",
    "print('number of pixels analysed: ', number_of_pixels)\n",
    "\n",
    "#make_Y function returns the results of the analysis for each individual pixel identified by its coordinates\n",
    "def make_Y(dataset, alpha):\n",
    "    PT_result = []\n",
    "    #split the dataset into pixel time series\n",
    "    for i in range(0, number_of_pixels, n):\n",
    "        Y = dataset[i:i+n][band_name].values \n",
    "        #eliminate numbers lower than the threshold and any other values that are not numeric\n",
    "        for val in Y:\n",
    "            if val > ndvi_threshold and isinstance(val, (int,float)):\n",
    "                try:\n",
    "                    result = list(PolyTrend(Y, alpha))\n",
    "                except:\n",
    "                    result = ['unqualified', 'unqualified', 'unqualified', 'unqualified', 'unqualified']\n",
    "            else:\n",
    "                result = ['NA', 'NA', 'NA', 'NA', 'NA']\n",
    "        #populate the empty PT_result list with values    \n",
    "        pixel_long = dataset.at[i, 'longitude']\n",
    "        pixel_lat = dataset.at[i, 'latitude']\n",
    "        PT_result_header = ['longitude', 'latitude', 'trend type', 'significance', 'degree', 'slope', 'direction']\n",
    "        PT_result.append([pixel_long, pixel_lat, result[0], result[1], result[2], result[3], result[4]])\n",
    "    #create a data frame for displaying results on a map    \n",
    "    image_frame = pd.DataFrame(PT_result[0:], columns=PT_result_header)\n",
    "    return image_frame;\n",
    "print(message)\n",
    "final_result = make_Y(data, alpha)\n",
    "pixels_to_display = len(final_result)\n",
    "\n",
    "#accompanying block of code, needed for the next steps, placed here so that the user can conveniently move to creating maps\n",
    "def assign_color(value):\n",
    "    if value==-1:\n",
    "        return 'gray'\n",
    "    elif value ==0:\n",
    "        return 'yellow'\n",
    "    elif value ==1:\n",
    "        return 'green'\n",
    "    elif value == 2:\n",
    "        return 'blue'\n",
    "    elif value == 3:\n",
    "        return 'red'\n",
    "    elif value == 'unqualified':\n",
    "        return 'violet'\n",
    "    else:\n",
    "        return 'black'\n",
    "\n",
    "print('points produced: ', pixels_to_display)\n",
    "message = 'Process finished successfully. You can save your data to a csv file or display on the maps below.'\n",
    "print(message)\n",
    "\n",
    "center = coords[0]"
   ]
  },
  {
   "cell_type": "markdown",
   "metadata": {},
   "source": [
    "<h3>Step 6a. Save results to a csv file in this Anaconda environment.</h3>"
   ]
  },
  {
   "cell_type": "code",
   "execution_count": 44,
   "metadata": {},
   "outputs": [],
   "source": [
    "final_result.to_csv('BurkinaFaso_max.csv')"
   ]
  },
  {
   "cell_type": "markdown",
   "metadata": {},
   "source": [
    "<h4 style='color:red'>At the moment if you generate maps with more than 200 pixels, it might crash the program. Instead, you can download a csv file and display it using any desktop GIS that accepts csv files.</h4> "
   ]
  },
  {
   "cell_type": "markdown",
   "metadata": {},
   "source": [
    "<h2>Trend type map</h2>"
   ]
  },
  {
   "cell_type": "code",
   "execution_count": 17,
   "metadata": {},
   "outputs": [
    {
     "name": "stdout",
     "output_type": "stream",
     "text": [
      "[0.048325, 8.030584]\n"
     ]
    },
    {
     "data": {
      "application/vnd.jupyter.widget-view+json": {
       "model_id": "f56118948eae43d2a374a51f42ea8082",
       "version_major": 2,
       "version_minor": 0
      },
      "text/plain": [
       "Map(basemap={'url': 'https://{s}.tile.openstreetmap.org/{z}/{x}/{y}.png', 'attribution': 'Map data (c) <a href…"
      ]
     },
     "metadata": {},
     "output_type": "display_data"
    }
   ],
   "source": [
    "center = coords[0][0][0], coords[0][0][1], \n",
    "#generate trend type map\n",
    "m_trend = Map(\n",
    "    center=center,\n",
    "    zoom=7\n",
    ")\n",
    "for i in range(0, 200):\n",
    "# for i in range(0, len(final_result)):  \n",
    "    pixel = CircleMarker()\n",
    "    pixel.location = (final_result.at[i, 'latitude'], final_result.at[i, 'longitude'])\n",
    "    pixel.fill_color = assign_color(final_result.at[i, 'trend type'])\n",
    "    pixel.stroke = False\n",
    "    pixel.radius = 5\n",
    "    pixel.fill_opacity = 1.0 \n",
    "    m_trend.add_layer(pixel)\n",
    "    \n",
    "m_trend"
   ]
  },
  {
   "cell_type": "markdown",
   "metadata": {},
   "source": [
    "<h3>Legend:</h3>\n",
    "<ul>\n",
    "    <li><button style='background:gray'>gray</button> - concealed trend</li>\n",
    "    <li><button style='background:yellow'>yellow</button> - no trend</li>\n",
    "    <li><button style='background:green'>green</button> - linear trend</li>\n",
    "    <li><button style='background:blue'>blue</button> - quadratic trend</li>\n",
    "    <li><button style='background:red'>red</button> - cubic trend</li>\n",
    "    <li><button style='background:violet'>violet</button> - unqualified (below threshold)</li>\n",
    "    <li><button style='background:black; color:white'>black</button> - NaN</li>\n",
    "    </ul>"
   ]
  },
  {
   "cell_type": "markdown",
   "metadata": {},
   "source": [
    "<h2>Statistical significance map</h2>"
   ]
  },
  {
   "cell_type": "code",
   "execution_count": 19,
   "metadata": {},
   "outputs": [
    {
     "data": {
      "application/vnd.jupyter.widget-view+json": {
       "model_id": "4546bfed9c9a444c90f0561df8e0097b",
       "version_major": 2,
       "version_minor": 0
      },
      "text/plain": [
       "Map(basemap={'url': 'https://{s}.tile.openstreetmap.org/{z}/{x}/{y}.png', 'attribution': 'Map data (c) <a href…"
      ]
     },
     "metadata": {},
     "output_type": "display_data"
    }
   ],
   "source": [
    "m_significance = Map(\n",
    "    center=center,\n",
    "    zoom=7\n",
    ")\n",
    "\n",
    "# for i in range(0, 200):\n",
    "for i in range(0, len(final_result)):\n",
    "  \n",
    "    pixel = CircleMarker()\n",
    "    pixel.location = (final_result.at[i, 'latitude'], final_result.at[i, 'longitude'])\n",
    "    pixel.color = assign_color(final_result.at[i, 'significance'])\n",
    "    pixel.fill_color = assign_color(final_result.at[i, 'significance'])\n",
    "    pixel.stroke = False\n",
    "    pixel.radius = 5\n",
    "    pixel.fill_opacity = 1.0 \n",
    "    m_significance.add_layer(pixel)\n",
    "\n",
    "m_significance"
   ]
  },
  {
   "cell_type": "markdown",
   "metadata": {},
   "source": [
    "<h3>Legend</h3>\n",
    "<ul>\n",
    "    <li><button style='background:gray'>gray</button> - statistically insignificant</li>\n",
    "    <li><button style='background:green'>green</button> - statistically significant</li>\n",
    "    <li><button style='background:violet'>violet</button> - unqualified (below threshold)</li>\n",
    "    <li><button style='background:black; color:white'>black</button> - NaN</li>\n",
    "            </ul>"
   ]
  },
  {
   "cell_type": "markdown",
   "metadata": {},
   "source": [
    "<h2>Polynomial degree map</h2>"
   ]
  },
  {
   "cell_type": "code",
   "execution_count": 65,
   "metadata": {},
   "outputs": [
    {
     "data": {
      "application/vnd.jupyter.widget-view+json": {
       "model_id": "eb206ca23d184060850f3c0c0ecd25d7",
       "version_major": 2,
       "version_minor": 0
      },
      "text/plain": [
       "Map(basemap={'attribution': 'Map data (c) <a href=\"https://openstreetmap.org\">OpenStreetMap</a> contributors',…"
      ]
     },
     "metadata": {},
     "output_type": "display_data"
    }
   ],
   "source": [
    "m_degree = Map(\n",
    "    center=AOI_zoom,\n",
    "    zoom=12\n",
    ")\n",
    "# for i in range(0, 200):\n",
    "for i in range(0, len(final_result)):\n",
    "        \n",
    "    pixel = CircleMarker()\n",
    "    pixel.location = (final_result.at[i, 'latitude'], final_result.at[i, 'longitude'])\n",
    "    pixel.fill_color = assign_color(final_result.at[i, 'degree'])\n",
    "    pixel.stroke = False\n",
    "    pixel.radius = 5\n",
    "    pixel.fill_opacity = 1.0 \n",
    "    m_degree.add_layer(pixel)\n",
    "\n",
    "m_degree"
   ]
  },
  {
   "cell_type": "markdown",
   "metadata": {},
   "source": [
    "<h3>Legend</h3>\n",
    "<ul>\n",
    "    <li><button style='background:yellow'>yellow</button> - no trend</li>\n",
    "    <li><button style='background:green'>green</button> - linear trend</li>\n",
    "    <li><button style='background:blue'>blue</button> - quadratic trend</li>\n",
    "    <li><button style='background:red'>red</button> - cubic trend</li>\n",
    "    <li><button style='background:violet'>violet</button> - unqualified (below threshold)</li>\n",
    "    <li><button style='background:black; color:white'>black</button> - NaN</li>\n",
    "</ul>\n",
    "        "
   ]
  }
 ],
 "metadata": {
  "kernelspec": {
   "display_name": "Python 3",
   "language": "python",
   "name": "python3"
  },
  "language_info": {
   "codemirror_mode": {
    "name": "ipython",
    "version": 3
   },
   "file_extension": ".py",
   "mimetype": "text/x-python",
   "name": "python",
   "nbconvert_exporter": "python",
   "pygments_lexer": "ipython3",
   "version": "3.5.6"
  }
 },
 "nbformat": 4,
 "nbformat_minor": 2
}
